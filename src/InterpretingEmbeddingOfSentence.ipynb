{
 "cells": [
  {
   "cell_type": "code",
   "execution_count": 1,
   "metadata": {
    "collapsed": true,
    "ExecuteTime": {
     "end_time": "2023-10-08T13:43:53.340820703Z",
     "start_time": "2023-10-08T13:43:52.283368327Z"
    }
   },
   "outputs": [],
   "source": [
    "import pickle\n",
    "import os\n",
    "from core_on_demand import coreOnDemand\n",
    "\n",
    "from feature_generation import FeatureGeneration\n",
    "GRAPH_CATEGORIES=\"g_only_categories.zip\"\n",
    "DEPTHS_PATH=[\"core_categories_depth_\"+str(i+1) for i in range(6)]"
   ]
  },
  {
   "cell_type": "code",
   "execution_count": 2,
   "outputs": [],
   "source": [
    "def from_yaml_to_python(file):\n",
    "    \"\"\"\n",
    "    fro meta data file to python dict\n",
    "    :return:\n",
    "    \"\"\"\n",
    "    with open(file, \"rb\") as f:\n",
    "        data = pickle.load(f)\n",
    "        # loading file\n",
    "        return (data)\n",
    "\n",
    "\n",
    "\n",
    "def get_data(path_to_data):\n",
    "    path_to_graph = os.path.join(path_to_data, GRAPH_CATEGORIES)\n",
    "    all_core_categories=[]\n",
    "    for depth in DEPTHS_PATH:\n",
    "        all_core_categories.append(\n",
    "            from_yaml_to_python(os.path.join(path_to_data, depth)))\n",
    "    return path_to_graph,all_core_categories"
   ],
   "metadata": {
    "collapsed": false,
    "ExecuteTime": {
     "end_time": "2023-10-08T13:44:03.174760636Z",
     "start_time": "2023-10-08T13:44:03.169685783Z"
    }
   }
  },
  {
   "cell_type": "code",
   "execution_count": 3,
   "outputs": [],
   "source": [
    "path_to_graph,all_core_categories = get_data(\"../additional_files/\")\n",
    "core_on_demand=coreOnDemand(all_core_categories, path_to_graph)"
   ],
   "metadata": {
    "collapsed": false,
    "ExecuteTime": {
     "end_time": "2023-10-08T13:46:14.433096947Z",
     "start_time": "2023-10-08T13:44:05.752362201Z"
    }
   }
  },
  {
   "cell_type": "code",
   "execution_count": 4,
   "outputs": [],
   "source": [
    "def get_category_depth(category):\n",
    "    category=\"Category:\"+category\n",
    "    for i,core in enumerate(all_core_categories):\n",
    "        if category in core:\n",
    "            return i+1\n",
    "\n",
    "def get_top_text():\n",
    "    core=core_on_demand.create_core_on_demand(context_text,max_size=768)\n",
    "\n",
    "    core= [c.replace(\"Category:\", \"\").replace(\"_\", \" \") for c in core if\n",
    "                           'Wikipedia categories named after' not in c]\n",
    "    feature_generation = FeatureGeneration(core)\n",
    "    top_features = get_top(feature_generation.get_features_explainable_sbert(text_to_test_on))\n",
    "    common_categories = [core[index] for index in\n",
    "                         top_features]\n",
    "    print(f\"sentence: {text_to_test_on}\")\n",
    "    print(f\"top features: {common_categories}\")\n",
    "    category_index=[]\n",
    "    for cat in common_categories:\n",
    "        category_index.append(get_category_depth(cat))\n",
    "    print(f\"{category_index=}\")\n",
    "\n",
    "\n",
    "def get_top(word_embedding, number=5):\n",
    "    \"\"\"\n",
    "    create the top argmax of an embedding\n",
    "    :param word_embedding:\n",
    "    :param number: number of argmax\n",
    "    :return: list of the highest argmax\n",
    "    \"\"\"\n",
    "    highest = word_embedding.argsort()[-number:][::-1]\n",
    "    return highest"
   ],
   "metadata": {
    "collapsed": false,
    "ExecuteTime": {
     "end_time": "2023-10-08T13:46:14.436552373Z",
     "start_time": "2023-10-08T13:46:14.435221994Z"
    }
   }
  },
  {
   "cell_type": "markdown",
   "source": [
    "You can choose any context_text (T) to check what CES top concepts are for the sentence text_to_test_on"
   ],
   "metadata": {
    "collapsed": false
   }
  },
  {
   "cell_type": "code",
   "execution_count": 5,
   "outputs": [],
   "source": [
    "context_text = [\"Coronavirus disease 2019 (COVID-19) is a contagious disease caused by a virus, the severe acute respiratory syndrome coronavirus 2 (SARS-CoV-2).\",\"he first known case was identified in Wuhan, China, in December 2019.\",\"The disease quickly spread worldwide, resulting in the COVID-19 pandemic.\"]\n",
    "text_to_test_on = \"The symptoms of COVID‑19 are variable but often include fever,[6] cough, headache,[7] fatigue, breathing difficulties, loss of smell, and loss of taste.\""
   ],
   "metadata": {
    "collapsed": false,
    "ExecuteTime": {
     "end_time": "2023-10-08T13:46:14.451285644Z",
     "start_time": "2023-10-08T13:46:14.437367942Z"
    }
   }
  },
  {
   "cell_type": "code",
   "execution_count": 6,
   "outputs": [
    {
     "name": "stdout",
     "output_type": "stream",
     "text": [
      "final core length 768\n",
      "sentence: The symptoms of COVID‑19 are variable but often include fever,[6] cough, headache,[7] fatigue, breathing difficulties, loss of smell, and loss of taste.\n",
      "top features: ['Symptoms and signs', 'Symptoms and signs: General', 'COVID-19 pandemic in Europe', 'COVID-19 pandemic in Asia', 'Viruses']\n",
      "category_index=[3, 4, 5, 5, 3]\n"
     ]
    }
   ],
   "source": [
    "get_top_text()"
   ],
   "metadata": {
    "collapsed": false,
    "ExecuteTime": {
     "end_time": "2023-10-08T13:46:16.641437526Z",
     "start_time": "2023-10-08T13:46:14.451787655Z"
    }
   }
  },
  {
   "cell_type": "code",
   "execution_count": null,
   "outputs": [],
   "source": [],
   "metadata": {
    "collapsed": false
   }
  }
 ],
 "metadata": {
  "kernelspec": {
   "display_name": "Python 3",
   "language": "python",
   "name": "python3"
  },
  "language_info": {
   "codemirror_mode": {
    "name": "ipython",
    "version": 2
   },
   "file_extension": ".py",
   "mimetype": "text/x-python",
   "name": "python",
   "nbconvert_exporter": "python",
   "pygments_lexer": "ipython2",
   "version": "2.7.6"
  }
 },
 "nbformat": 4,
 "nbformat_minor": 0
}
